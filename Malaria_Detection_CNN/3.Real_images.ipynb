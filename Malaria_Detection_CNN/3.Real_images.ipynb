{
 "cells": [
  {
   "cell_type": "code",
   "execution_count": 25,
   "id": "58eaa102",
   "metadata": {},
   "outputs": [],
   "source": [
    "import os"
   ]
  },
  {
   "cell_type": "code",
   "execution_count": 26,
   "id": "d46059a9",
   "metadata": {},
   "outputs": [],
   "source": [
    "data_dir=r'C:\\Users\\HP\\Downloads\\Video\\cell_images'"
   ]
  },
  {
   "cell_type": "code",
   "execution_count": 27,
   "id": "c2b4165a",
   "metadata": {},
   "outputs": [
    {
     "data": {
      "text/plain": [
       "['test', 'train']"
      ]
     },
     "execution_count": 27,
     "metadata": {},
     "output_type": "execute_result"
    }
   ],
   "source": [
    "os.listdir(data_dir)"
   ]
  },
  {
   "cell_type": "code",
   "execution_count": 28,
   "id": "519ec80d",
   "metadata": {},
   "outputs": [],
   "source": [
    "import pandas as pd\n",
    "import numpy as np\n",
    "import matplotlib.pyplot as plt\n",
    "import seaborn as sns\n",
    "\n",
    "%matplotlib inline"
   ]
  },
  {
   "cell_type": "code",
   "execution_count": 29,
   "id": "d8ec991f",
   "metadata": {},
   "outputs": [],
   "source": [
    "from matplotlib.image import imread"
   ]
  },
  {
   "cell_type": "code",
   "execution_count": 30,
   "id": "6c0f8d8f",
   "metadata": {},
   "outputs": [],
   "source": [
    "test_path=data_dir+\"\\\\test\\\\\"\n",
    "train_path=data_dir+\"\\\\train\\\\\"\n"
   ]
  },
  {
   "cell_type": "code",
   "execution_count": 31,
   "id": "05a2a80f",
   "metadata": {},
   "outputs": [
    {
     "data": {
      "text/plain": [
       "'C:\\\\Users\\\\HP\\\\Downloads\\\\Video\\\\cell_images\\\\test\\\\'"
      ]
     },
     "execution_count": 31,
     "metadata": {},
     "output_type": "execute_result"
    }
   ],
   "source": [
    "test_path"
   ]
  },
  {
   "cell_type": "code",
   "execution_count": 32,
   "id": "96c0522a",
   "metadata": {},
   "outputs": [
    {
     "data": {
      "text/plain": [
       "['parasitized', 'uninfected']"
      ]
     },
     "execution_count": 32,
     "metadata": {},
     "output_type": "execute_result"
    }
   ],
   "source": [
    "os.listdir(test_path)"
   ]
  },
  {
   "cell_type": "code",
   "execution_count": 33,
   "id": "4ae99cc9",
   "metadata": {},
   "outputs": [
    {
     "data": {
      "text/plain": [
       "['parasitized', 'uninfected']"
      ]
     },
     "execution_count": 33,
     "metadata": {},
     "output_type": "execute_result"
    }
   ],
   "source": [
    "os.listdir(train_path)"
   ]
  },
  {
   "cell_type": "code",
   "execution_count": 34,
   "id": "4102c0ae",
   "metadata": {},
   "outputs": [
    {
     "data": {
      "text/plain": [
       "'C100P61ThinF_IMG_20150918_144104_cell_162.png'"
      ]
     },
     "execution_count": 34,
     "metadata": {},
     "output_type": "execute_result"
    }
   ],
   "source": [
    "os.listdir(train_path+\"\\\\parasitized\\\\\")[0]"
   ]
  },
  {
   "cell_type": "code",
   "execution_count": 35,
   "id": "b87b05c8",
   "metadata": {},
   "outputs": [],
   "source": [
    "para_cell=train_path+\"\\\\parasitized\\\\\"+\"C100P61ThinF_IMG_20150918_144104_cell_162.png\"\n"
   ]
  },
  {
   "cell_type": "code",
   "execution_count": 36,
   "id": "e9a1ce2a",
   "metadata": {},
   "outputs": [
    {
     "data": {
      "text/plain": [
       "'C:\\\\Users\\\\HP\\\\Downloads\\\\Video\\\\cell_images\\\\train\\\\\\\\parasitized\\\\C100P61ThinF_IMG_20150918_144104_cell_162.png'"
      ]
     },
     "execution_count": 36,
     "metadata": {},
     "output_type": "execute_result"
    }
   ],
   "source": [
    "para_cell"
   ]
  },
  {
   "cell_type": "code",
   "execution_count": 37,
   "id": "f8cdbabd",
   "metadata": {},
   "outputs": [
    {
     "data": {
      "text/plain": [
       "array([[[0., 0., 0.],\n",
       "        [0., 0., 0.],\n",
       "        [0., 0., 0.],\n",
       "        ...,\n",
       "        [0., 0., 0.],\n",
       "        [0., 0., 0.],\n",
       "        [0., 0., 0.]],\n",
       "\n",
       "       [[0., 0., 0.],\n",
       "        [0., 0., 0.],\n",
       "        [0., 0., 0.],\n",
       "        ...,\n",
       "        [0., 0., 0.],\n",
       "        [0., 0., 0.],\n",
       "        [0., 0., 0.]],\n",
       "\n",
       "       [[0., 0., 0.],\n",
       "        [0., 0., 0.],\n",
       "        [0., 0., 0.],\n",
       "        ...,\n",
       "        [0., 0., 0.],\n",
       "        [0., 0., 0.],\n",
       "        [0., 0., 0.]],\n",
       "\n",
       "       ...,\n",
       "\n",
       "       [[0., 0., 0.],\n",
       "        [0., 0., 0.],\n",
       "        [0., 0., 0.],\n",
       "        ...,\n",
       "        [0., 0., 0.],\n",
       "        [0., 0., 0.],\n",
       "        [0., 0., 0.]],\n",
       "\n",
       "       [[0., 0., 0.],\n",
       "        [0., 0., 0.],\n",
       "        [0., 0., 0.],\n",
       "        ...,\n",
       "        [0., 0., 0.],\n",
       "        [0., 0., 0.],\n",
       "        [0., 0., 0.]],\n",
       "\n",
       "       [[0., 0., 0.],\n",
       "        [0., 0., 0.],\n",
       "        [0., 0., 0.],\n",
       "        ...,\n",
       "        [0., 0., 0.],\n",
       "        [0., 0., 0.],\n",
       "        [0., 0., 0.]]], dtype=float32)"
      ]
     },
     "execution_count": 37,
     "metadata": {},
     "output_type": "execute_result"
    }
   ],
   "source": [
    "imread(para_cell)"
   ]
  },
  {
   "cell_type": "code",
   "execution_count": 38,
   "id": "796f5982",
   "metadata": {},
   "outputs": [
    {
     "data": {
      "text/plain": [
       "<matplotlib.image.AxesImage at 0x141955396c8>"
      ]
     },
     "execution_count": 38,
     "metadata": {},
     "output_type": "execute_result"
    },
    {
     "data": {
      "image/png": "[encoded data removed]",
      "text/plain": [
       "<Figure size 432x288 with 1 Axes>"
      ]
     },
     "metadata": {
      "needs_background": "light"
     },
     "output_type": "display_data"
    }
   ],
   "source": [
    "plt.imshow(imread(para_cell))"
   ]
  },
  {
   "cell_type": "code",
   "execution_count": 39,
   "id": "62a05c60",
   "metadata": {},
   "outputs": [
    {
     "data": {
      "text/plain": [
       "'C100P61ThinF_IMG_20150918_144104_cell_128.png'"
      ]
     },
     "execution_count": 39,
     "metadata": {},
     "output_type": "execute_result"
    }
   ],
   "source": [
    "os.listdir(train_path+\"\\\\uninfected\\\\\")[0]"
   ]
  },
  {
   "cell_type": "code",
   "execution_count": 40,
   "id": "643e978a",
   "metadata": {},
   "outputs": [],
   "source": [
    "uninfected_cell=(train_path+\"\\\\uninfected\\\\\"+'C100P61ThinF_IMG_20150918_144104_cell_128.png')"
   ]
  },
  {
   "cell_type": "code",
   "execution_count": 41,
   "id": "be61e164",
   "metadata": {},
   "outputs": [
    {
     "data": {
      "text/plain": [
       "array([[[0., 0., 0.],\n",
       "        [0., 0., 0.],\n",
       "        [0., 0., 0.],\n",
       "        ...,\n",
       "        [0., 0., 0.],\n",
       "        [0., 0., 0.],\n",
       "        [0., 0., 0.]],\n",
       "\n",
       "       [[0., 0., 0.],\n",
       "        [0., 0., 0.],\n",
       "        [0., 0., 0.],\n",
       "        ...,\n",
       "        [0., 0., 0.],\n",
       "        [0., 0., 0.],\n",
       "        [0., 0., 0.]],\n",
       "\n",
       "       [[0., 0., 0.],\n",
       "        [0., 0., 0.],\n",
       "        [0., 0., 0.],\n",
       "        ...,\n",
       "        [0., 0., 0.],\n",
       "        [0., 0., 0.],\n",
       "        [0., 0., 0.]],\n",
       "\n",
       "       ...,\n",
       "\n",
       "       [[0., 0., 0.],\n",
       "        [0., 0., 0.],\n",
       "        [0., 0., 0.],\n",
       "        ...,\n",
       "        [0., 0., 0.],\n",
       "        [0., 0., 0.],\n",
       "        [0., 0., 0.]],\n",
       "\n",
       "       [[0., 0., 0.],\n",
       "        [0., 0., 0.],\n",
       "        [0., 0., 0.],\n",
       "        ...,\n",
       "        [0., 0., 0.],\n",
       "        [0., 0., 0.],\n",
       "        [0., 0., 0.]],\n",
       "\n",
       "       [[0., 0., 0.],\n",
       "        [0., 0., 0.],\n",
       "        [0., 0., 0.],\n",
       "        ...,\n",
       "        [0., 0., 0.],\n",
       "        [0., 0., 0.],\n",
       "        [0., 0., 0.]]], dtype=float32)"
      ]
     },
     "execution_count": 41,
     "metadata": {},
     "output_type": "execute_result"
    }
   ],
   "source": [
    "imread(uninfected_cell)"
   ]
  },
  {
   "cell_type": "code",
   "execution_count": 42,
   "id": "b55c358d",
   "metadata": {},
   "outputs": [
    {
     "data": {
      "text/plain": [
       "<matplotlib.image.AxesImage at 0x141966a0c48>"
      ]
     },
     "execution_count": 42,
     "metadata": {},
     "output_type": "execute_result"
    },
    {
     "data": {
      "image/png": "[encoded data removed]",
      "text/plain": [
       "<Figure size 432x288 with 1 Axes>"
      ]
     },
     "metadata": {
      "needs_background": "light"
     },
     "output_type": "display_data"
    }
   ],
   "source": [
    "plt.imshow(imread(uninfected_cell))"
   ]
  },
  {
   "cell_type": "code",
   "execution_count": 43,
   "id": "fe1e1a0f",
   "metadata": {},
   "outputs": [
    {
     "data": {
      "text/plain": [
       "(139, 160, 3)"
      ]
     },
     "execution_count": 43,
     "metadata": {},
     "output_type": "execute_result"
    }
   ],
   "source": [
    "imread(uninfected_cell).shape"
   ]
  },
  {
   "cell_type": "code",
   "execution_count": 44,
   "id": "83a0af63",
   "metadata": {},
   "outputs": [],
   "source": [
    "#pwd"
   ]
  },
  {
   "cell_type": "code",
   "execution_count": 45,
   "id": "1cc01552",
   "metadata": {},
   "outputs": [
    {
     "data": {
      "text/plain": [
       "12479"
      ]
     },
     "execution_count": 45,
     "metadata": {},
     "output_type": "execute_result"
    }
   ],
   "source": [
    "len(os.listdir(train_path+\"\\\\parasitized\\\\\"))"
   ]
  },
  {
   "cell_type": "code",
   "execution_count": 46,
   "id": "5b15947e",
   "metadata": {},
   "outputs": [
    {
     "data": {
      "text/plain": [
       "12479"
      ]
     },
     "execution_count": 46,
     "metadata": {},
     "output_type": "execute_result"
    }
   ],
   "source": [
    "len(os.listdir(train_path+\"\\\\uninfected\\\\\"))"
   ]
  },
  {
   "cell_type": "code",
   "execution_count": 47,
   "id": "591e89ac",
   "metadata": {},
   "outputs": [
    {
     "data": {
      "text/plain": [
       "1300"
      ]
     },
     "execution_count": 47,
     "metadata": {},
     "output_type": "execute_result"
    }
   ],
   "source": [
    "len(os.listdir(test_path+\"\\\\parasitized\\\\\"))"
   ]
  },
  {
   "cell_type": "code",
   "execution_count": 48,
   "id": "8c5830fb",
   "metadata": {},
   "outputs": [],
   "source": [
    "dim1=[]\n",
    "dim2=[]\n",
    "\n",
    "for image_filename in os.listdir(train_path+\"\\\\uninfected\\\\\"):\n",
    "    img=imread(train_path+\"\\\\uninfected\\\\\"+ image_filename)\n",
    "    d1,d2,color=img.shape\n",
    "    dim1.append(d1)\n",
    "    dim2.append(d2)"
   ]
  },
  {
   "cell_type": "code",
   "execution_count": 49,
   "id": "380fd0b8",
   "metadata": {},
   "outputs": [
    {
     "data": {
      "text/plain": [
       "[139,\n",
       " 136,\n",
       " 142,\n",
       " 112,\n",
       " 139,\n",
       " 130,\n",
       " 118,\n",
       " 136,\n",
       " 148,\n",
       " 133,\n",
       " 121,\n",
       " 139,\n",
       " 124,\n",
       " 160,\n",
       " 163,\n",
       " 193,\n",
       " 139,\n",
       " 133,\n",
       " 148,\n",
       " 172,\n",
       " 160,\n",
       " 118,\n",
       " 154,\n",
       " 187,\n",
       " 109,\n",
       " 130,\n",
       " 142,\n",
       " 124,\n",
       " 148,\n",
       " 136,\n",
       " 142,\n",
       " 142,\n",
       " 142,\n",
       " 127,\n",
       " 133,\n",
       " 151,\n",
       " 130,\n",
       " 178,\n",
       " 145,\n",
       " 118,\n",
       " 157,\n",
       " 175,\n",
       " 157,\n",
       " 175,\n",
       " 136,\n",
       " 172,\n",
       " 145,\n",
       " 136,\n",
       " 151,\n",
       " 163,\n",
       " 142,\n",
       " 148,\n",
       " 136,\n",
       " 139,\n",
       " 202,\n",
       " 169,\n",
       " 172,\n",
       " 127,\n",
       " 154,\n",
       " 145,\n",
       " 103,\n",
       " 151,\n",
       " 115,\n",
       " 139,\n",
       " 136,\n",
       " 100,\n",
       " 112,\n",
       " 154,\n",
       " 124,\n",
       " 106,\n",
       " 139,\n",
       " 136,\n",
       " 139,\n",
       " 82,\n",
       " 145,\n",
       " 115,\n",
       " 79,\n",
       " 130,\n",
       " 127,\n",
       " 115,\n",
       " 178,\n",
       " 169,\n",
       " 121,\n",
       " 160,\n",
       " 103,\n",
       " 136,\n",
       " 130,\n",
       " 175,\n",
       " 148,\n",
       " 154,\n",
       " 100,\n",
       " 115,\n",
       " 121,\n",
       " 112,\n",
       " 124,\n",
       " 127,\n",
       " 130,\n",
       " 127,\n",
       " 130,\n",
       " 130,\n",
       " 166,\n",
       " 139,\n",
       " 148,\n",
       " 178,\n",
       " 130,\n",
       " 124,\n",
       " 124,\n",
       " 136,\n",
       " 142,\n",
       " 166,\n",
       " 148,\n",
       " 118,\n",
       " 133,\n",
       " 154,\n",
       " 88,\n",
       " 112,\n",
       " 154,\n",
       " 136,\n",
       " 148,\n",
       " 151,\n",
       " 142,\n",
       " 94,\n",
       " 136,\n",
       " 142,\n",
       " 148,\n",
       " 139,\n",
       " 139,\n",
       " 172,\n",
       " 127,\n",
       " 148,\n",
       " 136,\n",
       " 139,\n",
       " 160,\n",
       " 166,\n",
       " 139,\n",
       " 139,\n",
       " 184,\n",
       " 136,\n",
       " 139,\n",
       " 175,\n",
       " 124,\n",
       " 151,\n",
       " 151,\n",
       " 145,\n",
       " 145,\n",
       " 130,\n",
       " 127,\n",
       " 133,\n",
       " 121,\n",
       " 136,\n",
       " 112,\n",
       " 160,\n",
       " 163,\n",
       " 154,\n",
       " 181,\n",
       " 133,\n",
       " 130,\n",
       " 145,\n",
       " 172,\n",
       " 151,\n",
       " 124,\n",
       " 151,\n",
       " 160,\n",
       " 160,\n",
       " 154,\n",
       " 130,\n",
       " 118,\n",
       " 118,\n",
       " 172,\n",
       " 148,\n",
       " 142,\n",
       " 148,\n",
       " 181,\n",
       " 136,\n",
       " 130,\n",
       " 139,\n",
       " 130,\n",
       " 163,\n",
       " 139,\n",
       " 154,\n",
       " 163,\n",
       " 142,\n",
       " 145,\n",
       " 142,\n",
       " 157,\n",
       " 136,\n",
       " 115,\n",
       " 151,\n",
       " 106,\n",
       " 163,\n",
       " 142,\n",
       " 166,\n",
       " 178,\n",
       " 163,\n",
       " 163,\n",
       " 139,\n",
       " 163,\n",
       " 193,\n",
       " 112,\n",
       " 160,\n",
       " 142,\n",
       " 157,\n",
       " 112,\n",
       " 196,\n",
       " 133,\n",
       " 148,\n",
       " 112,\n",
       " 124,\n",
       " 145,\n",
       " 142,\n",
       " 175,\n",
       " 163,\n",
       " 130,\n",
       " 151,\n",
       " 178,\n",
       " 127,\n",
       " 127,\n",
       " 151,\n",
       " 136,\n",
       " 166,\n",
       " 148,\n",
       " 139,\n",
       " 148,\n",
       " 142,\n",
       " 169,\n",
       " 166,\n",
       " 166,\n",
       " 154,\n",
       " 151,\n",
       " 169,\n",
       " 136,\n",
       " 148,\n",
       " 148,\n",
       " 133,\n",
       " 166,\n",
       " 169,\n",
       " 166,\n",
       " 184,\n",
       " 172,\n",
       " 109,\n",
       " 178,\n",
       " 163,\n",
       " 148,\n",
       " 145,\n",
       " 142,\n",
       " 163,\n",
       " 190,\n",
       " 169,\n",
       " 151,\n",
       " 94,\n",
       " 160,\n",
       " 133,\n",
       " 139,\n",
       " 151,\n",
       " 103,\n",
       " 184,\n",
       " 139,\n",
       " 151,\n",
       " 160,\n",
       " 142,\n",
       " 157,\n",
       " 133,\n",
       " 163,\n",
       " 124,\n",
       " 190,\n",
       " 142,\n",
       " 145,\n",
       " 118,\n",
       " 127,\n",
       " 130,\n",
       " 145,\n",
       " 136,\n",
       " 151,\n",
       " 139,\n",
       " 151,\n",
       " 148,\n",
       " 136,\n",
       " 145,\n",
       " 133,\n",
       " 145,\n",
       " 160,\n",
       " 151,\n",
       " 163,\n",
       " 139,\n",
       " 154,\n",
       " 136,\n",
       " 136,\n",
       " 151,\n",
       " 160,\n",
       " 142,\n",
       " 154,\n",
       " 142,\n",
       " 142,\n",
       " 136,\n",
       " 157,\n",
       " 130,\n",
       " 130,\n",
       " 151,\n",
       " 151,\n",
       " 148,\n",
       " 154,\n",
       " 217,\n",
       " 160,\n",
       " 142,\n",
       " 151,\n",
       " 169,\n",
       " 139,\n",
       " 145,\n",
       " 148,\n",
       " 130,\n",
       " 130,\n",
       " 154,\n",
       " 115,\n",
       " 142,\n",
       " 127,\n",
       " 154,\n",
       " 172,\n",
       " 160,\n",
       " 139,\n",
       " 151,\n",
       " 145,\n",
       " 139,\n",
       " 190,\n",
       " 133,\n",
       " 139,\n",
       " 115,\n",
       " 130,\n",
       " 130,\n",
       " 160,\n",
       " 130,\n",
       " 178,\n",
       " 166,\n",
       " 154,\n",
       " 160,\n",
       " 178,\n",
       " 166,\n",
       " 154,\n",
       " 160,\n",
       " 154,\n",
       " 142,\n",
       " 157,\n",
       " 154,\n",
       " 157,\n",
       " 133,\n",
       " 151,\n",
       " 130,\n",
       " 97,\n",
       " 136,\n",
       " 151,\n",
       " 130,\n",
       " 163,\n",
       " 157,\n",
       " 148,\n",
       " 166,\n",
       " 148,\n",
       " 154,\n",
       " 151,\n",
       " 163,\n",
       " 172,\n",
       " 157,\n",
       " 148,\n",
       " 151,\n",
       " 160,\n",
       " 145,\n",
       " 160,\n",
       " 145,\n",
       " 148,\n",
       " 151,\n",
       " 142,\n",
       " 145,\n",
       " 151,\n",
       " 127,\n",
       " 142,\n",
       " 130,\n",
       " 151,\n",
       " 166,\n",
       " 145,\n",
       " 184,\n",
       " 169,\n",
       " 214,\n",
       " 163,\n",
       " 166,\n",
       " 184,\n",
       " 145,\n",
       " 142,\n",
       " 127,\n",
       " 157,\n",
       " 136,\n",
       " 175,\n",
       " 133,\n",
       " 133,\n",
       " 109,\n",
       " 118,\n",
       " 133,\n",
       " 127,\n",
       " 163,\n",
       " 157,\n",
       " 175,\n",
       " 148,\n",
       " 133,\n",
       " 142,\n",
       " 139,\n",
       " 160,\n",
       " 130,\n",
       " 124,\n",
       " 124,\n",
       " 154,\n",
       " 154,\n",
       " 121,\n",
       " 142,\n",
       " 169,\n",
       " 160,\n",
       " 190,\n",
       " 118,\n",
       " 124,\n",
       " 133,\n",
       " 151,\n",
       " 115,\n",
       " 115,\n",
       " 130,\n",
       " 130,\n",
       " 133,\n",
       " 136,\n",
       " 184,\n",
       " 154,\n",
       " 148,\n",
       " 109,\n",
       " 136,\n",
       " 154,\n",
       " 130,\n",
       " 160,\n",
       " 151,\n",
       " 139,\n",
       " 130,\n",
       " 160,\n",
       " 148,\n",
       " 115,\n",
       " 154,\n",
       " 148,\n",
       " 157,\n",
       " 139,\n",
       " 148,\n",
       " 154,\n",
       " 133,\n",
       " 139,\n",
       " 136,\n",
       " 124,\n",
       " 154,\n",
       " 139,\n",
       " 136,\n",
       " 139,\n",
       " 109,\n",
       " 133,\n",
       " 124,\n",
       " 160,\n",
       " 142,\n",
       " 163,\n",
       " 130,\n",
       " 124,\n",
       " 142,\n",
       " 130,\n",
       " 142,\n",
       " 115,\n",
       " 133,\n",
       " 160,\n",
       " 151,\n",
       " 136,\n",
       " 124,\n",
       " 142,\n",
       " 139,\n",
       " 124,\n",
       " 130,\n",
       " 154,\n",
       " 130,\n",
       " 148,\n",
       " 139,\n",
       " 148,\n",
       " 145,\n",
       " 109,\n",
       " 163,\n",
       " 154,\n",
       " 127,\n",
       " 112,\n",
       " 121,\n",
       " 115,\n",
       " 157,\n",
       " 151,\n",
       " 118,\n",
       " 130,\n",
       " 145,\n",
       " 136,\n",
       " 130,\n",
       " 127,\n",
       " 127,\n",
       " 133,\n",
       " 145,\n",
       " 163,\n",
       " 136,\n",
       " 136,\n",
       " 124,\n",
       " 154,\n",
       " 142,\n",
       " 196,\n",
       " 181,\n",
       " 166,\n",
       " 148,\n",
       " 142,\n",
       " 148,\n",
       " 175,\n",
       " 163,\n",
       " 181,\n",
       " 175,\n",
       " 139,\n",
       " 160,\n",
       " 211,\n",
       " 178,\n",
       " 148,\n",
       " 124,\n",
       " 145,\n",
       " 109,\n",
       " 115,\n",
       " 142,\n",
       " 139,\n",
       " 187,\n",
       " 136,\n",
       " 136,\n",
       " 124,\n",
       " 112,\n",
       " 151,\n",
       " 175,\n",
       " 130,\n",
       " 139,\n",
       " 130,\n",
       " 130,\n",
       " 133,\n",
       " 190,\n",
       " 127,\n",
       " 133,\n",
       " 142,\n",
       " 136,\n",
       " 136,\n",
       " 166,\n",
       " 127,\n",
       " 130,\n",
       " 130,\n",
       " 145,\n",
       " 145,\n",
       " 166,\n",
       " 136,\n",
       " 109,\n",
       " 154,\n",
       " 130,\n",
       " 154,\n",
       " 142,\n",
       " 118,\n",
       " 160,\n",
       " 142,\n",
       " 160,\n",
       " 130,\n",
       " 124,\n",
       " 148,\n",
       " 124,\n",
       " 124,\n",
       " 124,\n",
       " 151,\n",
       " 157,\n",
       " 121,\n",
       " 112,\n",
       " 100,\n",
       " 97,\n",
       " 142,\n",
       " 142,\n",
       " 124,\n",
       " 127,\n",
       " 100,\n",
       " 145,\n",
       " 136,\n",
       " 115,\n",
       " 127,\n",
       " 112,\n",
       " 148,\n",
       " 142,\n",
       " 136,\n",
       " 148,\n",
       " 124,\n",
       " 136,\n",
       " 124,\n",
       " 130,\n",
       " 148,\n",
       " 136,\n",
       " 124,\n",
       " 145,\n",
       " 133,\n",
       " 139,\n",
       " 139,\n",
       " 133,\n",
       " 133,\n",
       " 133,\n",
       " 133,\n",
       " 130,\n",
       " 136,\n",
       " 130,\n",
       " 142,\n",
       " 130,\n",
       " 106,\n",
       " 127,\n",
       " 115,\n",
       " 124,\n",
       " 136,\n",
       " 142,\n",
       " 118,\n",
       " 109,\n",
       " 109,\n",
       " 118,\n",
       " 115,\n",
       " 127,\n",
       " 136,\n",
       " 130,\n",
       " 127,\n",
       " 124,\n",
       " 124,\n",
       " 106,\n",
       " 115,\n",
       " 118,\n",
       " 109,\n",
       " 109,\n",
       " 106,\n",
       " 112,\n",
       " 124,\n",
       " 118,\n",
       " 112,\n",
       " 127,\n",
       " 127,\n",
       " 103,\n",
       " 121,\n",
       " 118,\n",
       " 151,\n",
       " 127,\n",
       " 124,\n",
       " 136,\n",
       " 115,\n",
       " 106,\n",
       " 130,\n",
       " 103,\n",
       " 133,\n",
       " 124,\n",
       " 130,\n",
       " 106,\n",
       " 106,\n",
       " 112,\n",
       " 106,\n",
       " 103,\n",
       " 157,\n",
       " 127,\n",
       " 142,\n",
       " 130,\n",
       " 127,\n",
       " 100,\n",
       " 94,\n",
       " 100,\n",
       " 124,\n",
       " 112,\n",
       " 97,\n",
       " 103,\n",
       " 118,\n",
       " 127,\n",
       " 100,\n",
       " 100,\n",
       " 109,\n",
       " 118,\n",
       " 112,\n",
       " 118,\n",
       " 97,\n",
       " 130,\n",
       " 136,\n",
       " 133,\n",
       " 118,\n",
       " 154,\n",
       " 136,\n",
       " 124,\n",
       " 106,\n",
       " 100,\n",
       " 136,\n",
       " 124,\n",
       " 130,\n",
       " 136,\n",
       " 139,\n",
       " 127,\n",
       " 136,\n",
       " 139,\n",
       " 127,\n",
       " 139,\n",
       " 139,\n",
       " 130,\n",
       " 136,\n",
       " 124,\n",
       " 160,\n",
       " 133,\n",
       " 133,\n",
       " 160,\n",
       " 133,\n",
       " 142,\n",
       " 142,\n",
       " 151,\n",
       " 139,\n",
       " 160,\n",
       " 148,\n",
       " 124,\n",
       " 139,\n",
       " 127,\n",
       " 163,\n",
       " 154,\n",
       " 148,\n",
       " 142,\n",
       " 151,\n",
       " 151,\n",
       " 163,\n",
       " 142,\n",
       " 133,\n",
       " 145,\n",
       " 139,\n",
       " 166,\n",
       " 139,\n",
       " 121,\n",
       " 130,\n",
       " 163,\n",
       " 145,\n",
       " 130,\n",
       " 154,\n",
       " 145,\n",
       " 133,\n",
       " 136,\n",
       " 142,\n",
       " 127,\n",
       " 139,\n",
       " 133,\n",
       " 151,\n",
       " 139,\n",
       " 139,\n",
       " 145,\n",
       " 127,\n",
       " 142,\n",
       " 124,\n",
       " 142,\n",
       " 139,\n",
       " 163,\n",
       " 121,\n",
       " 112,\n",
       " 127,\n",
       " 124,\n",
       " 136,\n",
       " 142,\n",
       " 136,\n",
       " 130,\n",
       " 139,\n",
       " 133,\n",
       " 127,\n",
       " 130,\n",
       " 112,\n",
       " 154,\n",
       " 130,\n",
       " 109,\n",
       " 145,\n",
       " 136,\n",
       " 112,\n",
       " 133,\n",
       " 136,\n",
       " 118,\n",
       " 136,\n",
       " 121,\n",
       " 130,\n",
       " 133,\n",
       " 136,\n",
       " 154,\n",
       " 133,\n",
       " 133,\n",
       " 130,\n",
       " 139,\n",
       " 109,\n",
       " 139,\n",
       " 169,\n",
       " 103,\n",
       " 124,\n",
       " 142,\n",
       " 115,\n",
       " 142,\n",
       " 136,\n",
       " 139,\n",
       " 130,\n",
       " 130,\n",
       " 130,\n",
       " 133,\n",
       " 97,\n",
       " 136,\n",
       " 130,\n",
       " 124,\n",
       " 127,\n",
       " 115,\n",
       " 127,\n",
       " 142,\n",
       " 127,\n",
       " 112,\n",
       " 124,\n",
       " 133,\n",
       " 136,\n",
       " 136,\n",
       " 133,\n",
       " 145,\n",
       " 139,\n",
       " 136,\n",
       " 133,\n",
       " 142,\n",
       " 166,\n",
       " 154,\n",
       " 130,\n",
       " 166,\n",
       " 148,\n",
       " 139,\n",
       " 133,\n",
       " 133,\n",
       " 136,\n",
       " 127,\n",
       " 121,\n",
       " 133,\n",
       " 106,\n",
       " 145,\n",
       " 166,\n",
       " 130,\n",
       " 145,\n",
       " 130,\n",
       " 133,\n",
       " 148,\n",
       " 115,\n",
       " 139,\n",
       " 136,\n",
       " 115,\n",
       " 124,\n",
       " 145,\n",
       " 130,\n",
       " 136,\n",
       " 139,\n",
       " 109,\n",
       " 127,\n",
       " 139,\n",
       " 121,\n",
       " 133,\n",
       " 124,\n",
       " 124,\n",
       " 136,\n",
       " 106,\n",
       " 133,\n",
       " 100,\n",
       " 124,\n",
       " 121,\n",
       " 163,\n",
       " 103,\n",
       " 82,\n",
       " 142,\n",
       " 133,\n",
       " 88,\n",
       " 133,\n",
       " 124,\n",
       " 142,\n",
       " 136,\n",
       " 136,\n",
       " 136,\n",
       " 118,\n",
       " 154,\n",
       " 148,\n",
       " 127,\n",
       " 154,\n",
       " 157,\n",
       " 136,\n",
       " 151,\n",
       " 145,\n",
       " 190,\n",
       " 130,\n",
       " 154,\n",
       " 145,\n",
       " 121,\n",
       " 133,\n",
       " 142,\n",
       " 118,\n",
       " 124,\n",
       " 169,\n",
       " 142,\n",
       " 148,\n",
       " 130,\n",
       " 139,\n",
       " 148,\n",
       " 172,\n",
       " 142,\n",
       " 163,\n",
       " 124,\n",
       " 136,\n",
       " 121,\n",
       " 139,\n",
       " 97,\n",
       " 148,\n",
       " 136,\n",
       " 133,\n",
       " 154,\n",
       " 121,\n",
       " 124,\n",
       " 139,\n",
       " 124,\n",
       " 172,\n",
       " 142,\n",
       " 136,\n",
       " 181,\n",
       " 145,\n",
       " 145,\n",
       " 157,\n",
       " 124,\n",
       " 118,\n",
       " 139,\n",
       " 145,\n",
       " 145,\n",
       " 124,\n",
       " 136,\n",
       " 130,\n",
       " 148,\n",
       " 142,\n",
       " 130,\n",
       " 154,\n",
       " 133,\n",
       " 112,\n",
       " 136,\n",
       " 151,\n",
       " 154,\n",
       " 118,\n",
       " 130,\n",
       " 157,\n",
       " 127,\n",
       " 109,\n",
       " 148,\n",
       " 148,\n",
       " 109,\n",
       " 133,\n",
       " 124,\n",
       " 145,\n",
       " 133,\n",
       " 157,\n",
       " 130,\n",
       " 130,\n",
       " 115,\n",
       " 127,\n",
       " 118,\n",
       " 121,\n",
       " 142,\n",
       " 112,\n",
       " 154,\n",
       " 142,\n",
       " 127,\n",
       " 151,\n",
       " 148,\n",
       " 109,\n",
       " 127,\n",
       " 169,\n",
       " 136,\n",
       " 133,\n",
       " 145,\n",
       " 106,\n",
       " 142,\n",
       " 130,\n",
       " 130,\n",
       " 124,\n",
       " 130,\n",
       " 109,\n",
       " 124,\n",
       " 139,\n",
       " 142,\n",
       " 154,\n",
       " 142,\n",
       " 118,\n",
       " 166,\n",
       " 130,\n",
       " 130,\n",
       " 100,\n",
       " 151,\n",
       " 133,\n",
       " 133,\n",
       " 160,\n",
       " 121,\n",
       " 121,\n",
       " 139,\n",
       " 100,\n",
       " 127,\n",
       " 130,\n",
       " 139,\n",
       " 118,\n",
       " 106,\n",
       " 106,\n",
       " 133,\n",
       " 130,\n",
       " 115,\n",
       " 100,\n",
       " 130,\n",
       " 112,\n",
       " 136,\n",
       " ...]"
      ]
     },
     "execution_count": 49,
     "metadata": {},
     "output_type": "execute_result"
    }
   ],
   "source": [
    "dim1"
   ]
  },
  {
   "cell_type": "code",
   "execution_count": 50,
   "id": "9c8e63f7",
   "metadata": {},
   "outputs": [
    {
     "data": {
      "text/plain": [
       "<seaborn.axisgrid.JointGrid at 0x141967d5748>"
      ]
     },
     "execution_count": 50,
     "metadata": {},
     "output_type": "execute_result"
    },
    {
     "data": {
      "image/png": "[encoded data removed]",
      "text/plain": [
       "<Figure size 432x432 with 3 Axes>"
      ]
     },
     "metadata": {
      "needs_background": "light"
     },
     "output_type": "display_data"
    }
   ],
   "source": [
    "sns.jointplot(dim1,dim2)"
   ]
  },
  {
   "cell_type": "code",
   "execution_count": 51,
   "id": "e1bd6151",
   "metadata": {},
   "outputs": [
    {
     "data": {
      "text/plain": [
       "131.64820899110507"
      ]
     },
     "execution_count": 51,
     "metadata": {},
     "output_type": "execute_result"
    }
   ],
   "source": [
    "np.mean(dim1)"
   ]
  },
  {
   "cell_type": "code",
   "execution_count": 52,
   "id": "56152d9d",
   "metadata": {},
   "outputs": [
    {
     "data": {
      "text/plain": [
       "131.4041990544114"
      ]
     },
     "execution_count": 52,
     "metadata": {},
     "output_type": "execute_result"
    }
   ],
   "source": [
    "np.mean(dim2)"
   ]
  },
  {
   "cell_type": "code",
   "execution_count": 53,
   "id": "efc97dc7",
   "metadata": {},
   "outputs": [],
   "source": [
    "image_shape=(130,130,3)"
   ]
  },
  {
   "cell_type": "code",
   "execution_count": 54,
   "id": "5193f576",
   "metadata": {},
   "outputs": [],
   "source": [
    "from tensorflow.keras.preprocessing.image import ImageDataGenerator"
   ]
  },
  {
   "cell_type": "code",
   "execution_count": 55,
   "id": "7a7d3665",
   "metadata": {},
   "outputs": [],
   "source": [
    "#help(ImageDataGenerator)"
   ]
  },
  {
   "cell_type": "code",
   "execution_count": null,
   "id": "5647a88e",
   "metadata": {},
   "outputs": [],
   "source": []
  },
  {
   "cell_type": "code",
   "execution_count": 56,
   "id": "93d788a0",
   "metadata": {},
   "outputs": [],
   "source": [
    "image_gen=ImageDataGenerator(rotation_range=20,\n",
    "                            width_shift_range=0.1,\n",
    "                            height_shift_range=0.1,\n",
    "                            shear_range=0.1,\n",
    "                            zoom_range=0.1,\n",
    "                            horizontal_flip=True,\n",
    "                            fill_mode='nearest')"
   ]
  },
  {
   "cell_type": "code",
   "execution_count": 57,
   "id": "89f1387c",
   "metadata": {},
   "outputs": [
    {
     "data": {
      "text/plain": [
       "<matplotlib.image.AxesImage at 0x1419b70d148>"
      ]
     },
     "execution_count": 57,
     "metadata": {},
     "output_type": "execute_result"
    },
    {
     "data": {
      "image/png": "[encoded data removed]",
      "text/plain": [
       "<Figure size 432x288 with 1 Axes>"
      ]
     },
     "metadata": {
      "needs_background": "light"
     },
     "output_type": "display_data"
    }
   ],
   "source": [
    "plt.imshow(imread(uninfected_cell))"
   ]
  },
  {
   "cell_type": "code",
   "execution_count": 58,
   "id": "c3a55409",
   "metadata": {},
   "outputs": [
    {
     "data": {
      "text/plain": [
       "<matplotlib.image.AxesImage at 0x1419b783388>"
      ]
     },
     "execution_count": 58,
     "metadata": {},
     "output_type": "execute_result"
    },
    {
     "data": {
      "image/png": "[encoded data removed]",
      "text/plain": [
       "<Figure size 432x288 with 1 Axes>"
      ]
     },
     "metadata": {
      "needs_background": "light"
     },
     "output_type": "display_data"
    }
   ],
   "source": [
    "para_img=(imread(para_cell))\n",
    "plt.imshow(para_img)"
   ]
  },
  {
   "cell_type": "code",
   "execution_count": 59,
   "id": "fd891437",
   "metadata": {},
   "outputs": [
    {
     "data": {
      "text/plain": [
       "<matplotlib.image.AxesImage at 0x1419b7eb8c8>"
      ]
     },
     "execution_count": 59,
     "metadata": {},
     "output_type": "execute_result"
    },
    {
     "data": {
      "image/png": "[encoded data removed]",
      "text/plain": [
       "<Figure size 432x288 with 1 Axes>"
      ]
     },
     "metadata": {
      "needs_background": "light"
     },
     "output_type": "display_data"
    }
   ],
   "source": [
    "plt.imshow(image_gen.random_transform(para_img))"
   ]
  },
  {
   "cell_type": "code",
   "execution_count": 60,
   "id": "4cb329a8",
   "metadata": {},
   "outputs": [
    {
     "data": {
      "text/plain": [
       "'C:\\\\Users\\\\HP\\\\Downloads\\\\Video\\\\cell_images\\\\train\\\\'"
      ]
     },
     "execution_count": 60,
     "metadata": {},
     "output_type": "execute_result"
    }
   ],
   "source": [
    "train_path"
   ]
  },
  {
   "cell_type": "code",
   "execution_count": 61,
   "id": "a59f00f2",
   "metadata": {},
   "outputs": [
    {
     "name": "stdout",
     "output_type": "stream",
     "text": [
      "Found 24958 images belonging to 2 classes.\n"
     ]
    },
    {
     "data": {
      "text/plain": [
       "<keras_preprocessing.image.directory_iterator.DirectoryIterator at 0x1419b809f48>"
      ]
     },
     "execution_count": 61,
     "metadata": {},
     "output_type": "execute_result"
    }
   ],
   "source": [
    "image_gen.flow_from_directory(train_path)"
   ]
  },
  {
   "cell_type": "code",
   "execution_count": 62,
   "id": "7971e23d",
   "metadata": {},
   "outputs": [
    {
     "name": "stdout",
     "output_type": "stream",
     "text": [
      "Found 2600 images belonging to 2 classes.\n"
     ]
    },
    {
     "data": {
      "text/plain": [
       "<keras_preprocessing.image.directory_iterator.DirectoryIterator at 0x1419c80b048>"
      ]
     },
     "execution_count": 62,
     "metadata": {},
     "output_type": "execute_result"
    }
   ],
   "source": [
    "image_gen.flow_from_directory(test_path)"
   ]
  },
  {
   "cell_type": "code",
   "execution_count": 63,
   "id": "968ea74f",
   "metadata": {},
   "outputs": [],
   "source": [
    "from tensorflow.keras.models import Sequential\n",
    "from tensorflow.keras.layers import Dense,Conv2D,MaxPool2D,Flatten,Dropout"
   ]
  },
  {
   "cell_type": "code",
   "execution_count": 64,
   "id": "0f0e0d5c",
   "metadata": {},
   "outputs": [],
   "source": [
    "model=Sequential()\n",
    "\n",
    "model.add(Conv2D(filters=32,kernel_size=(3,3),input_shape=image_shape,activation='relu'))\n",
    "model.add(MaxPool2D(pool_size=(2,2)))\n",
    "\n",
    "model.add(Conv2D(filters=64,kernel_size=(3,3),input_shape=image_shape,activation='relu'))\n",
    "model.add(MaxPool2D(pool_size=(2,2)))\n",
    "\n",
    "model.add(Conv2D(filters=64,kernel_size=(3,3),input_shape=image_shape,activation='relu'))\n",
    "model.add(MaxPool2D(pool_size=(2,2)))\n",
    "\n",
    "model.add(Flatten())\n",
    "\n",
    "model.add(Dense(128,activation='relu'))\n",
    "\n",
    "model.add(Dropout(0.5))\n",
    "\n",
    "model.add(Dense(1,activation='sigmoid'))\n",
    "\n",
    "model.compile(loss='binary_crossentropy',optimizer='adam',metrics=['accuracy'])"
   ]
  },
  {
   "cell_type": "code",
   "execution_count": 65,
   "id": "3a1a2516",
   "metadata": {},
   "outputs": [
    {
     "name": "stdout",
     "output_type": "stream",
     "text": [
      "Model: \"sequential\"\n",
      "_________________________________________________________________\n",
      "Layer (type)                 Output Shape              Param #   \n",
      "=================================================================\n",
      "conv2d (Conv2D)              (None, 128, 128, 32)      896       \n",
      "_________________________________________________________________\n",
      "max_pooling2d (MaxPooling2D) (None, 64, 64, 32)        0         \n",
      "_________________________________________________________________\n",
      "conv2d_1 (Conv2D)            (None, 62, 62, 64)        18496     \n",
      "_________________________________________________________________\n",
      "max_pooling2d_1 (MaxPooling2 (None, 31, 31, 64)        0         \n",
      "_________________________________________________________________\n",
      "conv2d_2 (Conv2D)            (None, 29, 29, 64)        36928     \n",
      "_________________________________________________________________\n",
      "max_pooling2d_2 (MaxPooling2 (None, 14, 14, 64)        0         \n",
      "_________________________________________________________________\n",
      "flatten (Flatten)            (None, 12544)             0         \n",
      "_________________________________________________________________\n",
      "dense (Dense)                (None, 128)               1605760   \n",
      "_________________________________________________________________\n",
      "dropout (Dropout)            (None, 128)               0         \n",
      "_________________________________________________________________\n",
      "dense_1 (Dense)              (None, 1)                 129       \n",
      "=================================================================\n",
      "Total params: 1,662,209\n",
      "Trainable params: 1,662,209\n",
      "Non-trainable params: 0\n",
      "_________________________________________________________________\n"
     ]
    }
   ],
   "source": [
    "model.summary()"
   ]
  },
  {
   "cell_type": "code",
   "execution_count": 66,
   "id": "106fba8c",
   "metadata": {},
   "outputs": [],
   "source": [
    "from tensorflow.keras.callbacks import EarlyStopping"
   ]
  },
  {
   "cell_type": "code",
   "execution_count": 67,
   "id": "c573d9de",
   "metadata": {},
   "outputs": [],
   "source": [
    "early_stop=EarlyStopping(monitor='val_loss',patience=2)"
   ]
  },
  {
   "cell_type": "code",
   "execution_count": 68,
   "id": "2546ee26",
   "metadata": {},
   "outputs": [],
   "source": [
    "batch_size=16"
   ]
  },
  {
   "cell_type": "code",
   "execution_count": 69,
   "id": "3895da0d",
   "metadata": {},
   "outputs": [
    {
     "name": "stdout",
     "output_type": "stream",
     "text": [
      "Found 24958 images belonging to 2 classes.\n"
     ]
    }
   ],
   "source": [
    "train_img_gen=image_gen.flow_from_directory(train_path,\n",
    "                                            target_size=image_shape[:2],\n",
    "                                            color_mode='rgb',\n",
    "                                            batch_size=batch_size,\n",
    "                                            class_mode='binary')"
   ]
  },
  {
   "cell_type": "code",
   "execution_count": 70,
   "id": "67fee307",
   "metadata": {},
   "outputs": [
    {
     "name": "stdout",
     "output_type": "stream",
     "text": [
      "Found 2600 images belonging to 2 classes.\n"
     ]
    }
   ],
   "source": [
    "test_img_gen=image_gen.flow_from_directory(test_path,\n",
    "                                           target_size=image_shape[:2],\n",
    "                                           color_mode='rgb',\n",
    "                                           batch_size=batch_size,\n",
    "                                           class_mode='binary',\n",
    "                                          shuffle=False)"
   ]
  },
  {
   "cell_type": "code",
   "execution_count": 71,
   "id": "5f1d34b9",
   "metadata": {},
   "outputs": [
    {
     "data": {
      "text/plain": [
       "{'parasitized': 0, 'uninfected': 1}"
      ]
     },
     "execution_count": 71,
     "metadata": {},
     "output_type": "execute_result"
    }
   ],
   "source": [
    "train_img_gen.class_indices"
   ]
  },
  {
   "cell_type": "code",
   "execution_count": 72,
   "id": "70a9628b",
   "metadata": {},
   "outputs": [],
   "source": [
    "from tensorflow.keras.models import load_model"
   ]
  },
  {
   "cell_type": "code",
   "execution_count": 73,
   "id": "1479314f",
   "metadata": {},
   "outputs": [],
   "source": [
    "model=load_model('malaria_detector.h5')"
   ]
  },
  {
   "cell_type": "code",
   "execution_count": 74,
   "id": "3f2606d7",
   "metadata": {},
   "outputs": [
    {
     "data": {
      "text/plain": [
       "[1.9259184280387553, 0.8730769]"
      ]
     },
     "execution_count": 74,
     "metadata": {},
     "output_type": "execute_result"
    }
   ],
   "source": [
    "model.evaluate_generator(test_img_gen)"
   ]
  },
  {
   "cell_type": "code",
   "execution_count": 75,
   "id": "c4a8ecf0",
   "metadata": {},
   "outputs": [
    {
     "data": {
      "text/plain": [
       "['loss', 'accuracy']"
      ]
     },
     "execution_count": 75,
     "metadata": {},
     "output_type": "execute_result"
    }
   ],
   "source": [
    "model.metrics_names"
   ]
  },
  {
   "cell_type": "code",
   "execution_count": 76,
   "id": "1b3d7eca",
   "metadata": {},
   "outputs": [],
   "source": [
    "pred=model.predict_generator(test_img_gen)"
   ]
  },
  {
   "cell_type": "code",
   "execution_count": 78,
   "id": "88ae239b",
   "metadata": {},
   "outputs": [],
   "source": [
    "predictions=pred>0.5"
   ]
  },
  {
   "cell_type": "code",
   "execution_count": 79,
   "id": "258efed2",
   "metadata": {},
   "outputs": [
    {
     "data": {
      "text/plain": [
       "array([[False],\n",
       "       [False],\n",
       "       [False],\n",
       "       ...,\n",
       "       [ True],\n",
       "       [ True],\n",
       "       [False]])"
      ]
     },
     "execution_count": 79,
     "metadata": {},
     "output_type": "execute_result"
    }
   ],
   "source": [
    "predictions"
   ]
  },
  {
   "cell_type": "code",
   "execution_count": 80,
   "id": "68e6bf8a",
   "metadata": {},
   "outputs": [],
   "source": [
    "from sklearn.metrics import classification_report,confusion_matrix"
   ]
  },
  {
   "cell_type": "code",
   "execution_count": 82,
   "id": "226de809",
   "metadata": {},
   "outputs": [
    {
     "data": {
      "text/plain": [
       "array([0, 0, 0, ..., 1, 1, 1])"
      ]
     },
     "execution_count": 82,
     "metadata": {},
     "output_type": "execute_result"
    }
   ],
   "source": [
    "test_img_gen.classes"
   ]
  },
  {
   "cell_type": "code",
   "execution_count": 83,
   "id": "bd4aad54",
   "metadata": {},
   "outputs": [
    {
     "name": "stdout",
     "output_type": "stream",
     "text": [
      "              precision    recall  f1-score   support\n",
      "\n",
      "           0       0.80      0.98      0.88      1300\n",
      "           1       0.97      0.76      0.85      1300\n",
      "\n",
      "    accuracy                           0.87      2600\n",
      "   macro avg       0.89      0.87      0.87      2600\n",
      "weighted avg       0.89      0.87      0.87      2600\n",
      "\n"
     ]
    }
   ],
   "source": [
    "print(classification_report(test_img_gen.classes,predictions))"
   ]
  },
  {
   "cell_type": "code",
   "execution_count": 85,
   "id": "ca9de2eb",
   "metadata": {},
   "outputs": [
    {
     "name": "stdout",
     "output_type": "stream",
     "text": [
      "[[1273   27]\n",
      " [ 311  989]]\n"
     ]
    }
   ],
   "source": [
    "print(confusion_matrix(test_img_gen.classes,predictions))"
   ]
  },
  {
   "cell_type": "code",
   "execution_count": 86,
   "id": "11612ce0",
   "metadata": {},
   "outputs": [],
   "source": [
    "from tensorflow.keras.preprocessing import image"
   ]
  },
  {
   "cell_type": "code",
   "execution_count": 90,
   "id": "0b50f859",
   "metadata": {},
   "outputs": [],
   "source": [
    "my_image=image.load_img(para_cell,target_size=image_shape)"
   ]
  },
  {
   "cell_type": "code",
   "execution_count": 91,
   "id": "28afee73",
   "metadata": {},
   "outputs": [
    {
     "data": {
      "image/png": "[encoded data removed]",
      "text/plain": [
       "<PIL.Image.Image image mode=RGB size=130x130 at 0x141A0F4F708>"
      ]
     },
     "execution_count": 91,
     "metadata": {},
     "output_type": "execute_result"
    }
   ],
   "source": [
    "my_image"
   ]
  },
  {
   "cell_type": "code",
   "execution_count": 92,
   "id": "3ad3af8e",
   "metadata": {},
   "outputs": [
    {
     "name": "stdout",
     "output_type": "stream",
     "text": [
      "Model: \"sequential\"\n",
      "_________________________________________________________________\n",
      "Layer (type)                 Output Shape              Param #   \n",
      "=================================================================\n",
      "conv2d (Conv2D)              (None, 128, 128, 32)      896       \n",
      "_________________________________________________________________\n",
      "max_pooling2d (MaxPooling2D) (None, 64, 64, 32)        0         \n",
      "_________________________________________________________________\n",
      "conv2d_1 (Conv2D)            (None, 62, 62, 64)        18496     \n",
      "_________________________________________________________________\n",
      "max_pooling2d_1 (MaxPooling2 (None, 31, 31, 64)        0         \n",
      "_________________________________________________________________\n",
      "conv2d_2 (Conv2D)            (None, 29, 29, 64)        36928     \n",
      "_________________________________________________________________\n",
      "max_pooling2d_2 (MaxPooling2 (None, 14, 14, 64)        0         \n",
      "_________________________________________________________________\n",
      "flatten (Flatten)            (None, 12544)             0         \n",
      "_________________________________________________________________\n",
      "dense (Dense)                (None, 128)               1605760   \n",
      "_________________________________________________________________\n",
      "activation (Activation)      (None, 128)               0         \n",
      "_________________________________________________________________\n",
      "dropout (Dropout)            (None, 128)               0         \n",
      "_________________________________________________________________\n",
      "dense_1 (Dense)              (None, 1)                 129       \n",
      "_________________________________________________________________\n",
      "activation_1 (Activation)    (None, 1)                 0         \n",
      "=================================================================\n",
      "Total params: 1,662,209\n",
      "Trainable params: 1,662,209\n",
      "Non-trainable params: 0\n",
      "_________________________________________________________________\n"
     ]
    }
   ],
   "source": [
    "model.summary()"
   ]
  },
  {
   "cell_type": "code",
   "execution_count": 93,
   "id": "814bd688",
   "metadata": {},
   "outputs": [],
   "source": [
    "my_image_array=image.img_to_array(my_image)"
   ]
  },
  {
   "cell_type": "code",
   "execution_count": 94,
   "id": "30c68189",
   "metadata": {},
   "outputs": [
    {
     "data": {
      "text/plain": [
       "array([[[0., 0., 0.],\n",
       "        [0., 0., 0.],\n",
       "        [0., 0., 0.],\n",
       "        ...,\n",
       "        [0., 0., 0.],\n",
       "        [0., 0., 0.],\n",
       "        [0., 0., 0.]],\n",
       "\n",
       "       [[0., 0., 0.],\n",
       "        [0., 0., 0.],\n",
       "        [0., 0., 0.],\n",
       "        ...,\n",
       "        [0., 0., 0.],\n",
       "        [0., 0., 0.],\n",
       "        [0., 0., 0.]],\n",
       "\n",
       "       [[0., 0., 0.],\n",
       "        [0., 0., 0.],\n",
       "        [0., 0., 0.],\n",
       "        ...,\n",
       "        [0., 0., 0.],\n",
       "        [0., 0., 0.],\n",
       "        [0., 0., 0.]],\n",
       "\n",
       "       ...,\n",
       "\n",
       "       [[0., 0., 0.],\n",
       "        [0., 0., 0.],\n",
       "        [0., 0., 0.],\n",
       "        ...,\n",
       "        [0., 0., 0.],\n",
       "        [0., 0., 0.],\n",
       "        [0., 0., 0.]],\n",
       "\n",
       "       [[0., 0., 0.],\n",
       "        [0., 0., 0.],\n",
       "        [0., 0., 0.],\n",
       "        ...,\n",
       "        [0., 0., 0.],\n",
       "        [0., 0., 0.],\n",
       "        [0., 0., 0.]],\n",
       "\n",
       "       [[0., 0., 0.],\n",
       "        [0., 0., 0.],\n",
       "        [0., 0., 0.],\n",
       "        ...,\n",
       "        [0., 0., 0.],\n",
       "        [0., 0., 0.],\n",
       "        [0., 0., 0.]]], dtype=float32)"
      ]
     },
     "execution_count": 94,
     "metadata": {},
     "output_type": "execute_result"
    }
   ],
   "source": [
    "my_image_array"
   ]
  },
  {
   "cell_type": "code",
   "execution_count": 95,
   "id": "09a48802",
   "metadata": {},
   "outputs": [
    {
     "data": {
      "text/plain": [
       "(130, 130, 3)"
      ]
     },
     "execution_count": 95,
     "metadata": {},
     "output_type": "execute_result"
    }
   ],
   "source": [
    "my_image_array.shape"
   ]
  },
  {
   "cell_type": "code",
   "execution_count": 96,
   "id": "9bf2b4dc",
   "metadata": {},
   "outputs": [
    {
     "data": {
      "text/plain": [
       "array([[0.]], dtype=float32)"
      ]
     },
     "execution_count": 96,
     "metadata": {},
     "output_type": "execute_result"
    }
   ],
   "source": [
    "model.predict(my_image_array.reshape(1,130,130,3))"
   ]
  },
  {
   "cell_type": "code",
   "execution_count": null,
   "id": "e6d44c7a",
   "metadata": {},
   "outputs": [],
   "source": []
  }
 ],
 "metadata": {
  "kernelspec": {
   "display_name": "Python 3",
   "language": "python",
   "name": "python3"
  },
  "language_info": {
   "codemirror_mode": {
    "name": "ipython",
    "version": 3
   },
   "file_extension": ".py",
   "mimetype": "text/x-python",
   "name": "python",
   "nbconvert_exporter": "python",
   "pygments_lexer": "ipython3",
   "version": "3.7.10"
  }
 },
 "nbformat": 4,
 "nbformat_minor": 5
}
